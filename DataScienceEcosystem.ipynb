{
  "metadata": {
    "kernelspec": {
      "name": "python",
      "display_name": "Python (Pyodide)",
      "language": "python"
    },
    "language_info": {
      "codemirror_mode": {
        "name": "python",
        "version": 3
      },
      "file_extension": ".py",
      "mimetype": "text/x-python",
      "name": "python",
      "nbconvert_exporter": "python",
      "pygments_lexer": "ipython3",
      "version": "3.8"
    }
  },
  "nbformat_minor": 5,
  "nbformat": 4,
  "cells": [
    {
      "id": "201f78df-02f6-438d-b503-b616afa10b5e",
      "cell_type": "markdown",
      "source": "# Data Science Tools and Ecosystem",
      "metadata": {}
    },
    {
      "id": "0b183f6c-8c3b-4321-a967-a350279375ab",
      "cell_type": "markdown",
      "source": "En este cuaderno, se resumen las herramientas y ecosistemas de ciencia de datos.",
      "metadata": {}
    },
    {
      "id": "68997f4b-c7fd-4687-9734-8b7ab76a921d",
      "cell_type": "markdown",
      "source": "**Objetivos**\n- Listar lenguajes populares para la ciencia de datos.\n- Listar las bibliotecas mas utilizadas por los científicos de datos\n- Listar algunas herramientas computacionales para la ciencia de datos\n",
      "metadata": {}
    },
    {
      "id": "307b4590-ea0d-4cc7-bb75-9873f6f5c8ff",
      "cell_type": "markdown",
      "source": "Algunos de los lenguajes populares que utilizan los científicos de datos son:\n1. Python\n2. R\n3. Java\n4. SQL\n5. Scala",
      "metadata": {}
    },
    {
      "id": "fdd8f43b-341c-4da9-8488-2d1708cb2d11",
      "cell_type": "markdown",
      "source": "Algunas de las bibliotecas comúnmente utilizadas por los científicos de datos incluyen:\n1. Numpy\n2. Pandas\n3. Matplotlib\n4. Plotly\n5. Scikit-Learn",
      "metadata": {}
    },
    {
      "id": "9423f4dd-b200-455e-84b0-d411c3846a46",
      "cell_type": "markdown",
      "source": "| Herramientas de Ciencia de Datos |\n|----------------------------------|\n| Jupyter Notebooks |\n| SQL |\n| Hadoop |\n| ElasticSearch |\n| TensorFlow |\n| Apache Spark |\n",
      "metadata": {}
    },
    {
      "id": "1ae25266-4ef5-4222-9ddc-a9319ee29cf1",
      "cell_type": "markdown",
      "source": "### A continuación, se presentan algunos ejemplos de evaluación de expresiones aritméticas en Python",
      "metadata": {}
    },
    {
      "id": "f6ffaf0e-2830-48cb-9e59-bec7436f7a13",
      "cell_type": "markdown",
      "source": "Esta es una expresión aritmética simple para multiplicar y luego sumar enteros",
      "metadata": {}
    },
    {
      "id": "0e7dfe36-61b1-44bb-bccf-012473ae25c3",
      "cell_type": "code",
      "source": "(3*4)+5",
      "metadata": {
        "trusted": true
      },
      "outputs": [
        {
          "execution_count": 3,
          "output_type": "execute_result",
          "data": {
            "text/plain": "17"
          },
          "metadata": {}
        }
      ],
      "execution_count": 3
    },
    {
      "id": "f56a0bbf-307c-41a1-9b8f-d7567570670c",
      "cell_type": "markdown",
      "source": "Esto convertirá 200 minutos a horas dividiendo por 60",
      "metadata": {}
    },
    {
      "id": "c2ca9df4-83a0-4394-be74-d2f03e03bf20",
      "cell_type": "code",
      "source": "200 / 60",
      "metadata": {
        "trusted": true
      },
      "outputs": [
        {
          "execution_count": 4,
          "output_type": "execute_result",
          "data": {
            "text/plain": "3.3333333333333335"
          },
          "metadata": {}
        }
      ],
      "execution_count": 4
    },
    {
      "id": "2cdf052e-3231-4817-9bf2-8dcf81a829c7",
      "cell_type": "markdown",
      "source": "## Autor",
      "metadata": {}
    },
    {
      "id": "8d817c7f-3cac-4763-b46c-a97afabd78fa",
      "cell_type": "markdown",
      "source": "Omar Eduardo Gomez Hernandez",
      "metadata": {}
    }
  ]
}